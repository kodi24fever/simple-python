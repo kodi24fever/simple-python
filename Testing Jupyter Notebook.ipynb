{
 "cells": [
  {
   "cell_type": "code",
   "execution_count": 5,
   "id": "a67f009f",
   "metadata": {},
   "outputs": [
    {
     "name": "stdout",
     "output_type": "stream",
     "text": [
      "hello\n",
      "1\n",
      "2\n",
      "3\n",
      "4\n",
      "5\n"
     ]
    }
   ],
   "source": [
    "print(\"hello\")\n",
    "\n",
    "numbers = [1,2,3,4,5]\n",
    "\n",
    "for number in numbers:\n",
    "    print(number);\n",
    "    \n"
   ]
  },
  {
   "cell_type": "code",
   "execution_count": null,
   "id": "ba377c21",
   "metadata": {},
   "outputs": [],
   "source": [
    "if __name__ == '__main__':\n",
    "\n",
    "    # Creates stack using array\n",
    "    def create_stack():\n",
    "        stack = []\n",
    "        return stack\n",
    "\n",
    "    # Check if stack is empty\n",
    "    def is_empty(stack):\n",
    "        return len(stack) == 0\n",
    "\n",
    "    # Push item to stack\n",
    "    def push(stack, value):\n",
    "        stack.append(value)\n",
    "        print(\"Value \" + str(value) + \" inserted in stack\")\n",
    "\n",
    "\n",
    "    # Pop item\n",
    "    def pop(stack):\n",
    "        if(is_empty(stack)):\n",
    "            return \"stack is empty\"\n",
    "\n",
    "        return stack.pop()\n",
    "\n",
    "\n",
    "    # Stack implementation in python\n",
    "    stack = create_stack()\n",
    "\n",
    "    push(stack, 1)\n",
    "    push(stack, 2)\n",
    "    push(stack, 3)\n",
    "    push(stack, 4)\n",
    "\n",
    "    print(\"Stack of values \" + str(stack))\n",
    "    print(\"\\n\")\n",
    "    print(str(pop(stack)) + \" value was popped\")\n",
    "\n",
    "    print(\"Stack of values \" + str(stack))\n",
    "\n",
    "    print(stack[1])\n",
    "\n",
    "\n"
   ]
  }
 ],
 "metadata": {
  "kernelspec": {
   "display_name": "Python 3 (ipykernel)",
   "language": "python",
   "name": "python3"
  },
  "language_info": {
   "codemirror_mode": {
    "name": "ipython",
    "version": 3
   },
   "file_extension": ".py",
   "mimetype": "text/x-python",
   "name": "python",
   "nbconvert_exporter": "python",
   "pygments_lexer": "ipython3",
   "version": "3.10.4"
  }
 },
 "nbformat": 4,
 "nbformat_minor": 5
}
